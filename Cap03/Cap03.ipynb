{
 "cells": [
  {
   "cell_type": "markdown",
   "id": "0d5687aa",
   "metadata": {},
   "source": [
    "## Codigo Calculadora de paralelogramo"
   ]
  },
  {
   "cell_type": "code",
   "execution_count": null,
   "id": "c9d67717",
   "metadata": {},
   "outputs": [],
   "source": [
    "print(\"Bem vindo ao Calculador de Area de Paralelogramo\")"
   ]
  },
  {
   "cell_type": "code",
   "execution_count": null,
   "id": "35a35c90",
   "metadata": {},
   "outputs": [],
   "source": [
    "base = float(input(\"Insira o comprimento da base:\"))"
   ]
  },
  {
   "cell_type": "code",
   "execution_count": null,
   "id": "2fae54a9",
   "metadata": {},
   "outputs": [],
   "source": [
    "altura = float(input(\"Insira o comprimento da altura:\"))"
   ]
  },
  {
   "cell_type": "code",
   "execution_count": null,
   "id": "a3a250f9",
   "metadata": {},
   "outputs": [],
   "source": [
    "area = base * altura"
   ]
  },
  {
   "cell_type": "code",
   "execution_count": null,
   "id": "123fa31b",
   "metadata": {},
   "outputs": [],
   "source": [
    "print(\"A área do paralelogramo é: \", area)"
   ]
  },
  {
   "cell_type": "markdown",
   "id": "84758e7d",
   "metadata": {},
   "source": [
    "## Codigo Calculadora Simples"
   ]
  },
  {
   "cell_type": "code",
   "execution_count": 1,
   "id": "0cd0f89f",
   "metadata": {},
   "outputs": [
    {
     "name": "stdout",
     "output_type": "stream",
     "text": [
      "Bem vindo a Calculadora Simples\n"
     ]
    }
   ],
   "source": [
    "print(\"Bem vindo a Calculadora Simples\")"
   ]
  },
  {
   "cell_type": "code",
   "execution_count": 2,
   "id": "a87232b6",
   "metadata": {},
   "outputs": [
    {
     "name": "stdout",
     "output_type": "stream",
     "text": [
      "Insira o primeiro numero: 5\n"
     ]
    }
   ],
   "source": [
    "n1 = float(input(\"Insira o primeiro numero: \"))"
   ]
  },
  {
   "cell_type": "code",
   "execution_count": 3,
   "id": "bb455c74",
   "metadata": {},
   "outputs": [
    {
     "name": "stdout",
     "output_type": "stream",
     "text": [
      "Insira o segundo numero: 5\n"
     ]
    }
   ],
   "source": [
    "n2 = float(input(\"Insira o segundo numero: \"))"
   ]
  },
  {
   "cell_type": "code",
   "execution_count": 4,
   "id": "f3a309b1",
   "metadata": {},
   "outputs": [
    {
     "name": "stdout",
     "output_type": "stream",
     "text": [
      "Escolha um operador (+, -, *, /): \n",
      "*\n"
     ]
    }
   ],
   "source": [
    "operador = input(\"Escolha um operador (+, -, *, /): \\n\")"
   ]
  },
  {
   "cell_type": "code",
   "execution_count": 5,
   "id": "f7fc1e27",
   "metadata": {},
   "outputs": [
    {
     "name": "stdout",
     "output_type": "stream",
     "text": [
      "O resultado é: 25.0\n"
     ]
    }
   ],
   "source": [
    "if operador == \"+\":\n",
    "    print(f\"O resultado é: {n1+n2}\")\n",
    "\n",
    "elif operador == \"-\":\n",
    "    print(f\"O resultado é: {n1-n2}\")\n",
    "    \n",
    "elif operador == \"*\":\n",
    "    print(f\"O resultado é: {n1*n2}\")\n",
    "    \n",
    "elif operador == \"/\":\n",
    "    print(f\"O resultado é: {n1/n2}\")\n",
    "    \n",
    "else:\n",
    "    print(\"Operação Inválida!\")\n",
    "    \n",
    "    "
   ]
  },
  {
   "cell_type": "markdown",
   "id": "32fb20ca",
   "metadata": {},
   "source": [
    "## Bubble Sort"
   ]
  },
  {
   "cell_type": "code",
   "execution_count": 16,
   "id": "7f3be71c",
   "metadata": {},
   "outputs": [],
   "source": [
    "lista = [5,3,6,7,8,89,32,9,2,43]"
   ]
  },
  {
   "cell_type": "code",
   "execution_count": 17,
   "id": "451ef59a",
   "metadata": {},
   "outputs": [],
   "source": [
    "def bubble_sort(arr):\n",
    "    \n",
    "    n = len(arr)\n",
    "    \n",
    "    # Para cada elemento i do array\n",
    "    for i in range(n):\n",
    "        \n",
    "        # Para cada elemento j do array\n",
    "        for j in range(0, n-i-1):\n",
    "            \n",
    "            if arr[j] > arr[j+1]:\n",
    "                # Se o elemento i for maior que o elemento j\n",
    "                arr[j], arr[j+1] = arr[j+1], arr[j]\n",
    "            \n",
    "            \n",
    "    return arr"
   ]
  },
  {
   "cell_type": "code",
   "execution_count": 18,
   "id": "c538018f",
   "metadata": {},
   "outputs": [
    {
     "name": "stdout",
     "output_type": "stream",
     "text": [
      "[2, 3, 5, 6, 7, 8, 9, 32, 43, 89]\n"
     ]
    }
   ],
   "source": [
    "print(bubble_sort(lista))"
   ]
  }
 ],
 "metadata": {
  "kernelspec": {
   "display_name": "Python 3 (ipykernel)",
   "language": "python",
   "name": "python3"
  },
  "language_info": {
   "codemirror_mode": {
    "name": "ipython",
    "version": 3
   },
   "file_extension": ".py",
   "mimetype": "text/x-python",
   "name": "python",
   "nbconvert_exporter": "python",
   "pygments_lexer": "ipython3",
   "version": "3.9.13"
  }
 },
 "nbformat": 4,
 "nbformat_minor": 5
}
