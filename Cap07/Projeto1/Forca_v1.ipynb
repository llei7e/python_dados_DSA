{
 "cells": [
  {
   "cell_type": "code",
   "execution_count": 1,
   "id": "721fc5d1",
   "metadata": {},
   "outputs": [],
   "source": [
    "import random\n",
    "from os import system, name"
   ]
  },
  {
   "cell_type": "code",
   "execution_count": 2,
   "id": "cddfcd85",
   "metadata": {},
   "outputs": [],
   "source": [
    "# Função para limpar a tela a cada execução"
   ]
  },
  {
   "cell_type": "code",
   "execution_count": 3,
   "id": "3ac6e4a7",
   "metadata": {},
   "outputs": [],
   "source": [
    "def limpa_tela():\n",
    "    \n",
    "    # Windows\n",
    "    if name == 'nt':\n",
    "        _ = system('cls')\n",
    "        \n",
    "    # Linux ou Mac\n",
    "    else:\n",
    "        _ = system('clear')"
   ]
  },
  {
   "cell_type": "code",
   "execution_count": 5,
   "id": "cf3e5bfd",
   "metadata": {},
   "outputs": [],
   "source": [
    "# Função principal\n",
    "def game():\n",
    "    limpar_tela()\n",
    "    print(\"\\nBem-vindo ao jogo da forca!\")\n",
    "    print(\"Adivinhe a palavra abaixo:\\n\")\n",
    "    \n",
    "    # Lista de palavras para o jogo\n",
    "    palavras = [\"banana\", \"abacate\", \"uva\", \"morango\", \"laranja\"]\n",
    "    \n",
    "    # Palavra escolhida aleatóriamente para o turno\n",
    "    palavra = random.choice(palavras)\n",
    "    \n",
    "    # List comprehension para colocar os underline no lugar das letras\n",
    "    letras_palavra = ['_' for letra in palavra]\n",
    "    \n",
    "    # Numero de chances\n",
    "    chances = 6\n",
    "    \n",
    "    # Lista para as letras erradas\n",
    "    letras_erradas = []\n",
    "    \n",
    "    # Loop enquanto as chances for maior que 0\n",
    "    while chances > 0:\n",
    "        # Print\n",
    "        print(\" \".join(letras_descobertas))\n",
    "        print(\"\\nChances restantes: \", chances)\n",
    "        print(\"Letras erradas:\", \" \".join(letras_erradas))\n",
    "        \n",
    "        # Tentativa\n",
    "        tentativa = input(\"\\nDigite uma letra: \".lower())\n",
    "        \n",
    "        # Condicional\n",
    "        if tentativa in palavra:\n",
    "            index = 0\n",
    "            for letrar in palavra:\n",
    "                if tentativa == letra:\n",
    "                    letras_descobertas[index] = letra\n",
    "                index += 1\n",
    "                \n",
    "        else:\n",
    "            chances -= 1\n",
    "            letras_erradas.append(tentativa)"
   ]
  },
  {
   "cell_type": "code",
   "execution_count": null,
   "id": "588d7748",
   "metadata": {},
   "outputs": [],
   "source": []
  }
 ],
 "metadata": {
  "kernelspec": {
   "display_name": "Python 3 (ipykernel)",
   "language": "python",
   "name": "python3"
  },
  "language_info": {
   "codemirror_mode": {
    "name": "ipython",
    "version": 3
   },
   "file_extension": ".py",
   "mimetype": "text/x-python",
   "name": "python",
   "nbconvert_exporter": "python",
   "pygments_lexer": "ipython3",
   "version": "3.9.13"
  }
 },
 "nbformat": 4,
 "nbformat_minor": 5
}
